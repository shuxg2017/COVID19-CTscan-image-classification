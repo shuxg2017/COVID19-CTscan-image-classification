{
 "cells": [
  {
   "cell_type": "code",
   "execution_count": 1,
   "metadata": {},
   "outputs": [],
   "source": [
    "import tensorflow as tf\n",
    "import matplotlib.pyplot as plt"
   ]
  },
  {
   "cell_type": "code",
   "execution_count": 2,
   "metadata": {},
   "outputs": [],
   "source": [
    "autoencoder = tf.keras.models.load_model('autoencoder_covid_384x512_best_so_far')"
   ]
  },
  {
   "cell_type": "code",
   "execution_count": 3,
   "metadata": {},
   "outputs": [],
   "source": [
    "layer_names = []\n",
    "for i in range(1,8):\n",
    "    layer_names.append('conv2d_' + str(i))"
   ]
  },
  {
   "cell_type": "markdown",
   "metadata": {},
   "source": [
    "## Latent Space Model"
   ]
  },
  {
   "cell_type": "code",
   "execution_count": 4,
   "metadata": {
    "scrolled": false
   },
   "outputs": [],
   "source": [
    "latent_model = tf.keras.models.Model(inputs = autoencoder.input, outputs = autoencoder.get_layer('conv2d_7').output)"
   ]
  },
  {
   "cell_type": "markdown",
   "metadata": {},
   "source": [
    "## Load Latent Features"
   ]
  },
  {
   "cell_type": "code",
   "execution_count": 5,
   "metadata": {},
   "outputs": [],
   "source": [
    "from PIL import Image\n",
    "import os\n",
    "import numpy as np"
   ]
  },
  {
   "cell_type": "code",
   "execution_count": 6,
   "metadata": {},
   "outputs": [],
   "source": [
    "def get_latent_feature(train = True):\n",
    "    h = 384\n",
    "    w = 512\n",
    "    if train:\n",
    "        folder = os.path.join('COVID_DATASET', 'train')\n",
    "    else:\n",
    "        folder = os.path.join('COVID_DATASET', 'validation')\n",
    "    \n",
    "    # get files\n",
    "    iscovid_folder  = os.path.join(folder, 'covid')\n",
    "    noncovid_folder = os.path.join(folder, 'noncovid')\n",
    "    #\n",
    "    iscovid_files  = os.listdir(iscovid_folder)\n",
    "    noncovid_files = os.listdir(noncovid_folder)\n",
    "    #\n",
    "    iscovid_files  = [os.path.join(iscovid_folder, file) for file in iscovid_files]\n",
    "    noncovid_files = [os.path.join(noncovid_folder, file) for file in noncovid_files]\n",
    "    \n",
    "    # get covid features\n",
    "    iscovid_features  = np.zeros((len(iscovid_files), latent_model.output.shape[-1]))\n",
    "    y_is = np.zeros((len(iscovid_files),))\n",
    "    for i, file in enumerate(iscovid_files):\n",
    "        img = np.array(Image.open(file).resize((w, h)))\n",
    "        if len(img.shape) > 2:\n",
    "            img = img[:, :, 0]\n",
    "        else:\n",
    "            pass\n",
    "        img = np.expand_dims(img, 0)\n",
    "        img = np.expand_dims(img, -1)\n",
    "        iscovid_features[i] = latent_model.predict(img).squeeze()\n",
    "    # get noncovid features\n",
    "    noncovid_features = np.zeros((len(noncovid_files), latent_model.output.shape[-1]))\n",
    "    y_no = np.ones((len(noncovid_files),))\n",
    "    for i, file in enumerate(noncovid_files):\n",
    "        img = np.array(Image.open(file).resize((w, h)))\n",
    "        if len(img.shape) > 2:\n",
    "            img = img[:, :, 0]\n",
    "        else:\n",
    "            pass\n",
    "        img = np.expand_dims(img, 0)\n",
    "        img = np.expand_dims(img, -1)\n",
    "        noncovid_features[i] = latent_model.predict(img).squeeze()\n",
    "    \n",
    "    return (iscovid_features, noncovid_features, y_is, y_no)"
   ]
  },
  {
   "cell_type": "code",
   "execution_count": 7,
   "metadata": {},
   "outputs": [],
   "source": [
    "x_covid, x_noncovid, y_covid, y_non_covid = get_latent_feature()"
   ]
  },
  {
   "cell_type": "code",
   "execution_count": 8,
   "metadata": {},
   "outputs": [],
   "source": [
    "x1, x2, y1, y2 = get_latent_feature(False)"
   ]
  },
  {
   "cell_type": "code",
   "execution_count": 9,
   "metadata": {},
   "outputs": [],
   "source": [
    "x_train, y_train = np.vstack((x_covid, x_noncovid)), np.hstack((y_covid, y_non_covid))\n",
    "x_valid, y_valid = np.vstack((x1, x2)), np.hstack((y1, y2))"
   ]
  },
  {
   "cell_type": "code",
   "execution_count": 10,
   "metadata": {},
   "outputs": [
    {
     "data": {
      "text/plain": [
       "((231, 128), (273, 128))"
      ]
     },
     "execution_count": 10,
     "metadata": {},
     "output_type": "execute_result"
    }
   ],
   "source": [
    "x_covid.shape, x_noncovid.shape"
   ]
  },
  {
   "cell_type": "code",
   "execution_count": 11,
   "metadata": {},
   "outputs": [
    {
     "data": {
      "text/plain": [
       "((504, 128), (504,))"
      ]
     },
     "execution_count": 11,
     "metadata": {},
     "output_type": "execute_result"
    }
   ],
   "source": [
    "x_train.shape, y_train.shape"
   ]
  },
  {
   "cell_type": "code",
   "execution_count": 12,
   "metadata": {},
   "outputs": [
    {
     "data": {
      "text/plain": [
       "((200, 128), (200,))"
      ]
     },
     "execution_count": 12,
     "metadata": {},
     "output_type": "execute_result"
    }
   ],
   "source": [
    "x_valid.shape, y_valid.shape"
   ]
  },
  {
   "cell_type": "markdown",
   "metadata": {},
   "source": [
    "## KNN"
   ]
  },
  {
   "cell_type": "code",
   "execution_count": 13,
   "metadata": {},
   "outputs": [],
   "source": [
    "from sklearn.metrics import confusion_matrix"
   ]
  },
  {
   "cell_type": "code",
   "execution_count": 14,
   "metadata": {},
   "outputs": [],
   "source": [
    "def accuracy(y, y_hat):\n",
    "    return np.mean(y == y_hat)\n",
    "\n",
    "class KNNClassifier():\n",
    "    def fit(self, X, y):\n",
    "        self.X = X\n",
    "        self.y = y.astype(int)\n",
    "    def predict(self, X, k, epsilon=1e-2):\n",
    "        N = len(X)\n",
    "        y_hat = np.zeros(N)\n",
    "        for i in range(N):\n",
    "            dist = np.sum((self.X - X[i])**2, axis=1) # find distance\n",
    "            idx = np.argsort(dist)[:k] # get the data indexes whose distances are the closest\n",
    "            ws = (np.sqrt(dist[idx]) + epsilon)**-1\n",
    "            y_hat[i] = np.bincount(self.y[idx], weights=ws).argmax()\n",
    "        return y_hat"
   ]
  },
  {
   "cell_type": "code",
   "execution_count": 15,
   "metadata": {},
   "outputs": [],
   "source": [
    "knn = KNNClassifier()\n",
    "knn.fit(x_train, y_train)"
   ]
  },
  {
   "cell_type": "code",
   "execution_count": 16,
   "metadata": {},
   "outputs": [],
   "source": [
    "k = []\n",
    "acc_is = []\n",
    "acc_no = []\n",
    "acc = []\n",
    "for i in range(1, 10):\n",
    "    k.append(i)\n",
    "    pred = knn.predict(x_valid, i)\n",
    "    acc.append(accuracy(y_valid, pred))\n",
    "    acc_is.append(accuracy(y1, pred[0:len(y1)]))\n",
    "    acc_no.append(accuracy(y2, pred[len(y1):]))"
   ]
  },
  {
   "cell_type": "code",
   "execution_count": 17,
   "metadata": {},
   "outputs": [
    {
     "data": {
      "image/png": "[encoded data removed]",
      "text/plain": [
       "<Figure size 504x360 with 1 Axes>"
      ]
     },
     "metadata": {
      "needs_background": "light"
     },
     "output_type": "display_data"
    }
   ],
   "source": [
    "fig = plt.figure(figsize = (7, 5))\n",
    "plt.plot(k, acc, label = 'average', color = 'red')\n",
    "plt.plot(k, acc_is, label = 'covid', color = 'blue')\n",
    "plt.plot(k, acc_no, label = 'noncovid', color = 'green')\n",
    "plt.legend()\n",
    "plt.xlabel('k')\n",
    "plt.ylabel('accuracy')\n",
    "plt.title('KNN Accuracy')\n",
    "plt.tight_layout()\n",
    "fig.savefig('Knn_results', transparent = True)"
   ]
  },
  {
   "cell_type": "code",
   "execution_count": 18,
   "metadata": {},
   "outputs": [],
   "source": [
    "pred = knn.predict(x_valid, 4)\n",
    "cm = confusion_matrix(pred, y_valid)"
   ]
  },
  {
   "cell_type": "code",
   "execution_count": 19,
   "metadata": {},
   "outputs": [],
   "source": [
    "import seaborn as sns"
   ]
  },
  {
   "cell_type": "code",
   "execution_count": 20,
   "metadata": {},
   "outputs": [
    {
     "data": {
      "image/png": "[encoded data removed]",
      "text/plain": [
       "<Figure size 360x360 with 1 Axes>"
      ]
     },
     "metadata": {
      "needs_background": "light"
     },
     "output_type": "display_data"
    }
   ],
   "source": [
    "fig = plt.figure(figsize = (5, 5))\n",
    "sns.heatmap(cm, annot = True, cbar = False)\n",
    "plt.title('At k = 4, Label (0: COVID, 1: NonCOVID)')\n",
    "fig.savefig('Knn_at_4_confusion', transparent = True)"
   ]
  },
  {
   "cell_type": "markdown",
   "metadata": {},
   "source": [
    "## Bayesian model"
   ]
  },
  {
   "cell_type": "code",
   "execution_count": 21,
   "metadata": {},
   "outputs": [],
   "source": [
    "from scipy.stats import multivariate_normal as mvn"
   ]
  },
  {
   "cell_type": "code",
   "execution_count": 22,
   "metadata": {},
   "outputs": [],
   "source": [
    "class GaussNB():\n",
    "    ''' Description\n",
    "    This is a supervised learning algorithm, Gaussian Naive Bayes.\n",
    "    In fit function:\n",
    "        The model learns the  knowledge(MEANS and VARIANCES)\n",
    "            from the dataset, and uses the knowledge to predict new data.\n",
    "        EACH data sample contains:\n",
    "            an input and a label, where the input is\n",
    "            a set of features, such as [x1,x2,...xi...],\n",
    "            let's say there are 1000 features for each sample.\n",
    "        For EACH category:\n",
    "            the model learns A, B, and Prior\n",
    "            where A is the mean features which has the\n",
    "            same length as a sample, 1000.\n",
    "            where B is the variance features which also \n",
    "            has the same length as a sample, 1000.\n",
    "            The Prior = (# of samples in this category)/(entire dataset)\n",
    "        Thus, K categories, K As, K Bs, and K Priors.\n",
    "        The model uses As, Bs, and Priors to predict new samples.\n",
    "    In predict funcion:\n",
    "        mvn stands for multivariate normal/Gaussian.\n",
    "        Let's say we have 800 new samples.\n",
    "        For EACH category:\n",
    "            the mvn generates 800 probabilities/scores.\n",
    "        Thus, we get 800 by K probabilities, where K is\n",
    "            the number of the categories.\n",
    "        For each row:\n",
    "            we find the index of the max probability,\n",
    "            so the category we want to assign to the sample\n",
    "            is that index.\n",
    "    '''\n",
    "    def fit(self, X, y, epsilon=1e-3):\n",
    "        self.likelihoods = dict()\n",
    "        self.priors = dict()\n",
    "        self.K = set(y.astype(int))\n",
    "        for k in self.K:\n",
    "            X_k = X[y==k,:]\n",
    "            self.likelihoods[k] = {'means': X_k.mean(axis=0),\\\n",
    "                                   'cov': X_k.var(axis=0)+epsilon}\n",
    "            self.priors[k] = len(X_k)/len(X)\n",
    "            \n",
    "    def predict(self, X, return_prob=False):\n",
    "        N, D = X.shape\n",
    "        P_hat = np.zeros((N, len(self.K)))\n",
    "        for k, l in self.likelihoods.items():\n",
    "            P_hat[:,k] = mvn.logpdf(X, l['means'], l['cov']) + np.log(self.priors[k])\n",
    "        if return_prob:\n",
    "            P_hat\n",
    "        else:\n",
    "            return np.argmax(P_hat, axis=1).astype(int)\n",
    "    \n",
    "    def get_confusion(self, X, y):\n",
    "        n = len(self.K)\n",
    "        confusion_matrix = np.zeros((n,n))\n",
    "        for k in range(n):\n",
    "            y_hat = self.predict(X[y==k])\n",
    "            for j in range(n):\n",
    "                confusion_matrix[k,j] = sum(y_hat==j)\n",
    "            confusion_matrix[k] = confusion_matrix[k]/sum(confusion_matrix[k])\n",
    "        return np.round(confusion_matrix,2)"
   ]
  },
  {
   "cell_type": "code",
   "execution_count": 23,
   "metadata": {},
   "outputs": [],
   "source": [
    "class GenGaussNB():\n",
    "    ''' Description\n",
    "    This is a supervised learning algorithm, Gaussian Naive Bayes.\n",
    "    In fit function:\n",
    "        The model learns the  knowledge(MEANS and COVARIANCE MATRIXES)\n",
    "            from the dataset, and uses the knowledge to predict new data.\n",
    "        EACH data sample contains:\n",
    "            an input and a label, where the input is\n",
    "            a set of features, such as [x1,x2,...xi...],\n",
    "            let's say there are 1000 features for each sample.\n",
    "        For EACH category:\n",
    "            the model learns A, B, and Prior\n",
    "            where A is the mean features which has the\n",
    "            same length as a sample, 1000.\n",
    "            where B is covariance matrix, 1000x1000.\n",
    "            The Prior = (# of samples in this category)/(entire dataset)\n",
    "        Thus, K categories, K As, K Bs, and K Priors.\n",
    "        The model uses As, Bs, and Priors to predict new samples.\n",
    "    In predict funcion:\n",
    "        mvn stands for multivariate normal/Gaussian.\n",
    "        Let's say we have 800 new samples.\n",
    "        For EACH category:\n",
    "            the mvn generates 800 probabilities/scores.\n",
    "        Thus, we get 800 by K probabilities, where K is\n",
    "            the number of the categories.\n",
    "        For each row:\n",
    "            we find the index of the max probability,\n",
    "            so the category we want to assign to the sample\n",
    "            is that index.\n",
    "    '''\n",
    "    def fit(self, X, y, epsilon=0.1):\n",
    "        self.likelihoods = dict()\n",
    "        self.priors = dict()\n",
    "        self.K = set(y.astype(int))\n",
    "        for k in self.K:\n",
    "            X_k = X[y==k,:]\n",
    "            self.likelihoods[k] = {'means': X_k.mean(axis=0)} # calculate mean\n",
    "            # calculate covariance matrix\n",
    "            g = X_k-self.likelihoods[k]['means']\n",
    "            self.likelihoods[k]['cov'] = (1/(len(X_k)-1))*np.matmul(g.T,g)+epsilon*np.eye(X_k.shape[1]) \n",
    "            self.priors[k] = len(X_k)/len(X)\n",
    "    \n",
    "    def predict(self, X, return_prob=False):\n",
    "        N, D = X.shape\n",
    "        P_hat = np.zeros((N, len(self.K)))\n",
    "        for k, l in self.likelihoods.items():\n",
    "            P_hat[:,k] = mvn.logpdf(X, l['means'], l['cov']) + np.log(self.priors[k])\n",
    "        if return_prob:\n",
    "            return P_hat\n",
    "        else:\n",
    "            return np.argmax(P_hat, axis=1).astype(int)\n",
    "    \n",
    "    def get_confusion(self, X, y):\n",
    "        n = len(self.K)\n",
    "        conf_matrix = np.zeros((n,n))\n",
    "        for i in range(n):\n",
    "            y_hat = self.predict(X[y==i])\n",
    "            for j in range(n):\n",
    "                conf_matrix[i,j] = sum(y_hat==j)\n",
    "            conf_matrix[i] = conf_matrix[i]/sum(conf_matrix[i])\n",
    "        return np.round(conf_matrix,2)"
   ]
  },
  {
   "cell_type": "code",
   "execution_count": 24,
   "metadata": {},
   "outputs": [],
   "source": [
    "gnb = GenGaussNB()\n",
    "epsilon = []\n",
    "acc = []\n",
    "acc_is = []\n",
    "acc_no = []\n",
    "for i in range(10):\n",
    "    gnb.fit(x_train, y_train, epsilon = 10**i)\n",
    "    epsilon.append(i)\n",
    "    pred = gnb.predict(x_valid)\n",
    "    acc.append(accuracy(y_valid, pred))\n",
    "    acc_is.append(accuracy(y1, pred[0:len(y1)]))\n",
    "    acc_no.append(accuracy(y2, pred[len(y1):]))"
   ]
  },
  {
   "cell_type": "code",
   "execution_count": 25,
   "metadata": {},
   "outputs": [
    {
     "data": {
      "image/png": "[encoded data removed]",
      "text/plain": [
       "<Figure size 504x360 with 1 Axes>"
      ]
     },
     "metadata": {
      "needs_background": "light"
     },
     "output_type": "display_data"
    }
   ],
   "source": [
    "fig = plt.figure(figsize = (7, 5))\n",
    "plt.plot(epsilon, acc, label = 'average', color = 'red')\n",
    "plt.plot(epsilon, acc_is, label = 'covid', color = 'blue')\n",
    "plt.plot(epsilon, acc_no, label = 'noncovid', color = 'green')\n",
    "plt.legend()\n",
    "plt.xlabel('eposilon = 10^n')\n",
    "plt.ylabel('accuracy')\n",
    "plt.title('Bayesian Accuracy')\n",
    "plt.tight_layout()\n",
    "fig.savefig('Bayesian_results', transparent = True)"
   ]
  },
  {
   "cell_type": "code",
   "execution_count": 26,
   "metadata": {},
   "outputs": [
    {
     "data": {
      "text/plain": [
       "0.735"
      ]
     },
     "execution_count": 26,
     "metadata": {},
     "output_type": "execute_result"
    }
   ],
   "source": [
    "gnb.fit(x_train, y_train, epsilon = 10**1)\n",
    "pred = gnb.predict(x_valid)\n",
    "accuracy(y_valid, pred)"
   ]
  },
  {
   "cell_type": "code",
   "execution_count": 27,
   "metadata": {},
   "outputs": [],
   "source": [
    "gnb.fit(x_train, y_train, epsilon = 10**4)\n",
    "pred = gnb.predict(x_valid)\n",
    "cm = confusion_matrix(pred, y_valid)"
   ]
  },
  {
   "cell_type": "code",
   "execution_count": 28,
   "metadata": {},
   "outputs": [
    {
     "data": {
      "image/png": "[encoded data removed]",
      "text/plain": [
       "<Figure size 360x360 with 1 Axes>"
      ]
     },
     "metadata": {
      "needs_background": "light"
     },
     "output_type": "display_data"
    }
   ],
   "source": [
    "fig = plt.figure(figsize = (5, 5))\n",
    "sns.heatmap(cm, annot = True, cbar = False)\n",
    "plt.title('At epsilon = 10k, Label (0: COVID, 1: NonCOVID)')\n",
    "fig.savefig('Bayesian_at_4_confusion', transparent = True)"
   ]
  },
  {
   "cell_type": "code",
   "execution_count": null,
   "metadata": {},
   "outputs": [],
   "source": []
  }
 ],
 "metadata": {
  "kernelspec": {
   "display_name": "Python 3",
   "language": "python",
   "name": "python3"
  },
  "language_info": {
   "codemirror_mode": {
    "name": "ipython",
    "version": 3
   },
   "file_extension": ".py",
   "mimetype": "text/x-python",
   "name": "python",
   "nbconvert_exporter": "python",
   "pygments_lexer": "ipython3",
   "version": "3.7.7"
  }
 },
 "nbformat": 4,
 "nbformat_minor": 4
}
